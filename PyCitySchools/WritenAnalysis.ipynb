{
 "cells": [
  {
   "cell_type": "markdown",
   "metadata": {},
   "source": [
    "# Written Analysis\n",
    "After reviewing the data, it was concluded that Charter-funded high schools had higher average scores for reading and math than District-funded high schools. Additionally, Charter high schools had a significantly higher overall passing rate than district-funded schools. However, it is essential to note that District high schools had a substantially larger school population than Charter High schools. The largest Charter High School had 2283 students, and District Funded student's largest high school had 4976 students. Therefore, if we wanted to dig deeper and understand why Charter schools' test scores were higher than district-funded schools, the first thing to do would be to investigate the teacher-to-student ratio. That would allow us to draw a better conclusion as to why District Funded schools had lower scores across the board. "
   ]
  }
 ],
 "metadata": {
  "kernelspec": {
   "display_name": "Python 3.9.12 ('base')",
   "language": "python",
   "name": "python3"
  },
  "language_info": {
   "name": "python",
   "version": "3.9.12"
  },
  "orig_nbformat": 4,
  "vscode": {
   "interpreter": {
    "hash": "db72c22d0a08e2d9295f5353b4119414611785e6b04a8fd1a6e2ba40ff32d790"
   }
  }
 },
 "nbformat": 4,
 "nbformat_minor": 2
}
