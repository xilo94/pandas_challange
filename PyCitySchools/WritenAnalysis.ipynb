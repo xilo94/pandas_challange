{
 "cells": [
  {
   "cell_type": "markdown",
   "metadata": {},
   "source": [
    "# Written Analysis\n",
    "After reviewing the data, it was concluded that Charter-funded high schools had higher average scores for reading and math than District-funded high schools. Additionally, Charter high schools had a significantly higher overall passing rate than district-funded schools. However, it is essential to note that District high schools had a substantially larger school population than Charter High schools. The largest Charter High School had 2283 students, and District Funded student's largest high school had 4976 students. Therefore, if we wanted to dig deeper and understand why Charter schools' test scores were higher than district-funded schools, the first thing to do would be to investigate the teacher-to-student ratio. That would allow us to draw a better conclusion as to why District Funded schools had lower scores across the board. "
   ]
  }
 ],
 "metadata": {
  "kernelspec": {
   "display_name": "Python 3.8.9 64-bit",
   "language": "python",
   "name": "python3"
  },
  "language_info": {
   "name": "python",
   "version": "3.8.9"
  },
  "orig_nbformat": 4,
  "vscode": {
   "interpreter": {
    "hash": "31f2aee4e71d21fbe5cf8b01ff0e069b9275f58929596ceb00d14d90e3e16cd6"
   }
  }
 },
 "nbformat": 4,
 "nbformat_minor": 2
}
